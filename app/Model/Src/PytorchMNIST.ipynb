{
  "nbformat": 4,
  "nbformat_minor": 0,
  "metadata": {
    "colab": {
      "name": "PytorchMNIST",
      "provenance": [],
      "collapsed_sections": []
    },
    "kernelspec": {
      "name": "python3",
      "display_name": "Python 3"
    },
    "language_info": {
      "name": "python"
    },
    "accelerator": "GPU"
  },
  "cells": [
    {
      "cell_type": "code",
      "metadata": {
        "colab": {
          "base_uri": "https://localhost:8080/"
        },
        "id": "r6NMsIQ9PoeR",
        "outputId": "484ab14d-9821-4133-d0e6-abac5e444e91"
      },
      "source": [
        "!wget www.di.ens.fr/~lelarge/MNIST.tar.gz\n",
        "!tar -zxvf MNIST.tar.gz"
      ],
      "execution_count": 2,
      "outputs": [
        {
          "output_type": "stream",
          "text": [
            "--2021-04-11 09:22:47--  http://www.di.ens.fr/~lelarge/MNIST.tar.gz\n",
            "Resolving www.di.ens.fr (www.di.ens.fr)... 129.199.99.14\n",
            "Connecting to www.di.ens.fr (www.di.ens.fr)|129.199.99.14|:80... connected.\n",
            "HTTP request sent, awaiting response... 302 Found\n",
            "Location: https://www.di.ens.fr/~lelarge/MNIST.tar.gz [following]\n",
            "--2021-04-11 09:22:47--  https://www.di.ens.fr/~lelarge/MNIST.tar.gz\n",
            "Connecting to www.di.ens.fr (www.di.ens.fr)|129.199.99.14|:443... connected.\n",
            "HTTP request sent, awaiting response... 200 OK\n",
            "Length: unspecified [application/x-gzip]\n",
            "Saving to: ‘MNIST.tar.gz’\n",
            "\n",
            "MNIST.tar.gz            [        <=>         ]  33.20M  6.82MB/s    in 14s     \n",
            "\n",
            "2021-04-11 09:23:01 (2.40 MB/s) - ‘MNIST.tar.gz’ saved [34813078]\n",
            "\n",
            "MNIST/\n",
            "MNIST/raw/\n",
            "MNIST/raw/train-labels-idx1-ubyte\n",
            "MNIST/raw/t10k-labels-idx1-ubyte.gz\n",
            "MNIST/raw/t10k-labels-idx1-ubyte\n",
            "MNIST/raw/t10k-images-idx3-ubyte.gz\n",
            "MNIST/raw/train-images-idx3-ubyte\n",
            "MNIST/raw/train-labels-idx1-ubyte.gz\n",
            "MNIST/raw/t10k-images-idx3-ubyte\n",
            "MNIST/raw/train-images-idx3-ubyte.gz\n",
            "MNIST/processed/\n",
            "MNIST/processed/training.pt\n",
            "MNIST/processed/test.pt\n"
          ],
          "name": "stdout"
        }
      ]
    },
    {
      "cell_type": "code",
      "metadata": {
        "id": "neVYLeoUpIyw",
        "colab": {
          "base_uri": "https://localhost:8080/"
        },
        "outputId": "98c6bf1d-f03b-4cd2-89ca-fc52d3e45efe"
      },
      "source": [
        "import torch\n",
        "import torchvision\n",
        "from torchvision.datasets import MNIST\n",
        "from torch.utils.data import random_split, DataLoader\n",
        "import torch.nn.functional as F\n",
        "from collections import namedtuple\n",
        "import matplotlib.pyplot as plt\n",
        "\n",
        "Dataset = MNIST(root=\"./\", transform=torchvision.transforms.ToTensor())\n",
        "ValSplit = 0.2\n",
        "TrainSZ, ValSZ = (int(len(Dataset) *( 1-ValSplit )), int(len(Dataset) * ValSplit))\n",
        "\n",
        "TrainData, ValData = random_split(Dataset, (TrainSZ, ValSZ))\n",
        "\n",
        "BatchSZ = 100\n",
        "TrainLoader = DataLoader(TrainData, BatchSZ, shuffle= True)\n",
        "ValLoader   = DataLoader(ValData, BatchSZ)\n",
        "\n",
        "device = torch.device('cuda' if torch.cuda.is_available() else 'cpu')\n",
        "device"
      ],
      "execution_count": 3,
      "outputs": [
        {
          "output_type": "execute_result",
          "data": {
            "text/plain": [
              "device(type='cuda')"
            ]
          },
          "metadata": {
            "tags": []
          },
          "execution_count": 3
        }
      ]
    },
    {
      "cell_type": "code",
      "metadata": {
        "id": "_lVdf0S0uAIM"
      },
      "source": [
        "ModelStats = namedtuple('ModelStats', ['Loss', 'Accuracy'])\n",
        "\n",
        "class CNNModel(torch.nn.Module):\n",
        "    def __init__(self, InputSZ, NClasses):\n",
        "        super().__init__()\n",
        "        self.InputSize  = InputSZ\n",
        "        self.NumClasses = NClasses\n",
        "        self.conv1 = torch.nn.Conv2d(1, 32, kernel_size=5)\n",
        "        self.conv2 = torch.nn.Conv2d(32, 32, kernel_size=5)\n",
        "        self.conv3 = torch.nn.Conv2d(32,64, kernel_size=5)\n",
        "        self.fc1 = torch.nn.Linear(3*3*64, 256)\n",
        "        self.fc2 = torch.nn.Linear(256, NClasses)\n",
        "    \n",
        "    def forward(self, x):\n",
        "        x = F.relu(self.conv1(x))\n",
        "        x = F.relu(F.max_pool2d(self.conv2(x), 2))\n",
        "        x = F.dropout(x, p=0.5, training=self.training)\n",
        "        x = F.relu(F.max_pool2d(self.conv3(x),2))\n",
        "        x = F.dropout(x, p=0.5, training=self.training)\n",
        "        x = x.view(-1,3*3*64 )\n",
        "        x = F.relu(self.fc1(x))\n",
        "        x = F.dropout(x, training=self.training)\n",
        "        x = self.fc2(x)\n",
        "        \n",
        "        return x\n",
        "    \n",
        "    def Accuracy(self, Out, lable):\n",
        "        val, idx = torch.max(Out, dim = 1)\n",
        "        return torch.tensor(torch.sum(idx == lable).item() / len(idx))\n",
        "    \n",
        "    def Step(self, Batch, Validation: bool):\n",
        "        img, lbl = Batch\n",
        "        \n",
        "        img = img.to(device)\n",
        "        lbl = lbl.to(device)\n",
        "\n",
        "        out = self(img)\n",
        "        loss = F.cross_entropy(out, lbl)\n",
        "        if Validation:\n",
        "            accuracy = self.Accuracy(out, lbl)\n",
        "            return ModelStats(loss, accuracy)\n",
        "        else:\n",
        "            return loss\n",
        "    \n",
        "    def EndValidationEpoch(self, outputs):\n",
        "        b_loss = [x.Loss for x in outputs]\n",
        "        b_acc  = [x.Accuracy for x in outputs]\n",
        "\n",
        "        e_loss = torch.mean(torch.stack(b_loss))\n",
        "        e_acc  = torch.mean(torch.stack(b_acc))\n",
        "\n",
        "        return ModelStats(e_loss.item(), e_acc.item())\n",
        "    \n",
        "    def EndEpoch(self, e, res):\n",
        "        print(f\"Epoch [{e}] Finished with Loss = {res.Loss:.4}, Accuracy = {(res.Accuracy * 100):.4}%\")\n",
        "\n",
        "def EvaluateModel(model, Loader):\n",
        "    out = [model.Step(b, True) for b in Loader]\n",
        "    return model.EndValidationEpoch(out)\n",
        "\n",
        "def Fit(epochs, model, TrainLoader, ValLoader, opt):\n",
        "    History = []\n",
        "    for epoch in range(epochs):\n",
        "        for batch in TrainLoader:\n",
        "            loss = model.Step(batch, False)\n",
        "            loss.backward()\n",
        "            opt.step()\n",
        "            opt.zero_grad()\n",
        "        \n",
        "        res = EvaluateModel(model, ValLoader)\n",
        "        model.EndEpoch(epoch, res)\n",
        "        History.append(res)\n",
        "    \n",
        "    return History\n",
        "\n",
        "\n",
        "\n"
      ],
      "execution_count": 6,
      "outputs": []
    },
    {
      "cell_type": "code",
      "metadata": {
        "colab": {
          "base_uri": "https://localhost:8080/",
          "height": 536
        },
        "id": "TgBZ9EzfpI9-",
        "outputId": "dcc7e065-69ae-42bc-bd3f-aaaaeea9a613"
      },
      "source": [
        "MODEL = CNNModel(28*28, 10)\n",
        "MODEL.to(device)\n",
        "\n",
        "LR = 0.001\n",
        "MOMENTUM = 0.9\n",
        "EPOCHS = 15\n",
        "Optimizer = torch.optim.Adam(MODEL.parameters(), lr= LR)\n",
        "\n",
        "Hist = Fit(EPOCHS, MODEL, TrainLoader, ValLoader, Optimizer)\n",
        "\n",
        "Losses = [x.Loss for x in Hist]\n",
        "Accs   = [x.Accuracy for x in Hist]\n",
        "\n",
        "plt.plot(Losses, label= \"Losses\")\n",
        "plt.plot(Accs, label= \"Accuracy\")\n",
        "plt.title(\"Loss vs Accuracy\")\n",
        "plt.legend()\n",
        "plt.show()"
      ],
      "execution_count": 7,
      "outputs": [
        {
          "output_type": "stream",
          "text": [
            "Epoch [0] Finished with Loss = 0.1403, Accuracy = 95.8%\n",
            "Epoch [1] Finished with Loss = 0.09932, Accuracy = 97.01%\n",
            "Epoch [2] Finished with Loss = 0.08803, Accuracy = 97.34%\n",
            "Epoch [3] Finished with Loss = 0.07677, Accuracy = 97.7%\n",
            "Epoch [4] Finished with Loss = 0.07751, Accuracy = 97.77%\n",
            "Epoch [5] Finished with Loss = 0.07267, Accuracy = 97.97%\n",
            "Epoch [6] Finished with Loss = 0.06025, Accuracy = 98.2%\n",
            "Epoch [7] Finished with Loss = 0.06406, Accuracy = 98.1%\n",
            "Epoch [8] Finished with Loss = 0.07733, Accuracy = 97.62%\n",
            "Epoch [9] Finished with Loss = 0.058, Accuracy = 98.41%\n",
            "Epoch [10] Finished with Loss = 0.0614, Accuracy = 98.41%\n",
            "Epoch [11] Finished with Loss = 0.05824, Accuracy = 98.36%\n",
            "Epoch [12] Finished with Loss = 0.05683, Accuracy = 98.46%\n",
            "Epoch [13] Finished with Loss = 0.0531, Accuracy = 98.54%\n",
            "Epoch [14] Finished with Loss = 0.05899, Accuracy = 98.28%\n"
          ],
          "name": "stdout"
        },
        {
          "output_type": "display_data",
          "data": {
            "image/png": "[encoded data removed]",
            "text/plain": [
              "<Figure size 432x288 with 1 Axes>"
            ]
          },
          "metadata": {
            "tags": [],
            "needs_background": "light"
          }
        }
      ]
    },
    {
      "cell_type": "code",
      "metadata": {
        "colab": {
          "base_uri": "https://localhost:8080/",
          "height": 282
        },
        "id": "T5E6zeiEIQyS",
        "outputId": "09abb7e1-ea8a-4fd7-875e-ff1b1606322d"
      },
      "source": [
        "TestDataset= MNIST(root=\"./\", train=False,transform=torchvision.transforms.ToTensor())\n",
        "\n",
        "def Predict_Image(img, model, lbl):\n",
        "    plt.imshow(img[0], cmap=\"gray\")\n",
        "    img = torch.unsqueeze(img, 0)\n",
        "    img = img.to(device)\n",
        "    out = model(img)\n",
        "    _, prediction = torch.max(out, dim=1)\n",
        "    print(f\"Model predicts {prediction[0].item()}, Truth = {lbl}\")\n",
        "\n",
        "img, lbl = TestDataset[9870]\n",
        "Predict_Image(img, MODEL, lbl)"
      ],
      "execution_count": 11,
      "outputs": [
        {
          "output_type": "stream",
          "text": [
            "Model predicts 5, Truth = 5\n"
          ],
          "name": "stdout"
        },
        {
          "output_type": "display_data",
          "data": {
            "image/png": "[encoded data removed]",
            "text/plain": [
              "<Figure size 432x288 with 1 Axes>"
            ]
          },
          "metadata": {
            "tags": [],
            "needs_background": "light"
          }
        }
      ]
    },
    {
      "cell_type": "code",
      "metadata": {
        "colab": {
          "base_uri": "https://localhost:8080/"
        },
        "id": "Q-FIrPXKNVg5",
        "outputId": "a5b4f2ed-cd50-4016-f6d4-a96cf9495f1e"
      },
      "source": [
        "TestLoader = DataLoader(TestDataset, 10, shuffle=True)\n",
        "res = EvaluateModel(MODEL, TestLoader)\n",
        "res"
      ],
      "execution_count": 13,
      "outputs": [
        {
          "output_type": "execute_result",
          "data": {
            "text/plain": [
              "ModelStats(Loss=0.051950741559267044, Accuracy=0.9836000204086304)"
            ]
          },
          "metadata": {
            "tags": []
          },
          "execution_count": 13
        }
      ]
    },
    {
      "cell_type": "code",
      "metadata": {
        "id": "UwP0IBuWOMbQ"
      },
      "source": [
        "import torch.onnx as onnx\n",
        "\n",
        "torch.save(MODEL.state_dict(), \"CNNModel.pt\")\n",
        "\n",
        "input_image = torch.zeros((1,1,28,28)).to(device)\n",
        "onnx.export(MODEL, input_image, 'CNNModel.onnx')"
      ],
      "execution_count": 15,
      "outputs": []
    }
  ]
}